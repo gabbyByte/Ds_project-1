{
 "cells": [
  {
   "cell_type": "code",
   "execution_count": 2,
   "metadata": {},
   "outputs": [],
   "source": [
    "import pandas as pd\n",
    "df=pd.read_csv(\"../../Downloads/glassdoor_jobs.csv\")"
   ]
  },
  {
   "cell_type": "code",
   "execution_count": 3,
   "metadata": {},
   "outputs": [],
   "source": [
    "#salary parsing\n",
    "\n",
    "df['hourly']=df['Salary Estimate'].apply(lambda x:1 if 'per hour' in x.lower() else 0)\n",
    "df['employer_provided']=df['Salary Estimate'].apply(lambda x:1 if 'employer provided salary:' in x.lower() else 0)\n",
    "\n",
    "\n",
    "df=df[df['Salary Estimate']!='-1']\n",
    "salary=df['Salary Estimate'].apply(lambda x:x.split('(')[0])\n",
    "remove_kd=salary.apply(lambda x:x.replace('K', '').replace('$', ''))\n",
    "remove_hr=remove_kd.apply(lambda x:x.lower().replace('per hour', '').replace('employer provided salary:',''))\n",
    "\n",
    "df['min_salary']=remove_hr.apply(lambda x:x.split ('-')[0]).astype(int)\n",
    "df['max_salary']=remove_hr.apply(lambda x:x.split ('-')[1]).astype(int)\n",
    "df['ave_salary']=(df.min_salary+df.max_salary)/2"
   ]
  },
  {
   "cell_type": "code",
   "execution_count": 4,
   "metadata": {},
   "outputs": [],
   "source": [
    "#Company name text only\n",
    "df['comany_name']=df.apply(lambda x:x['Company Name'] if x['Rating']<0 else x['Company Name'][:-3],axis=1)"
   ]
  },
  {
   "cell_type": "code",
   "execution_count": 5,
   "metadata": {},
   "outputs": [],
   "source": [
    "#State field.\n",
    "df['job_state']=df['Location'].apply(lambda x:x.split(',')[1])\n",
    "df['same_state']=df.apply(lambda x: 1 if x.Location==x.Headquarters else 0, axis =1)"
   ]
  },
  {
   "cell_type": "code",
   "execution_count": 12,
   "metadata": {},
   "outputs": [],
   "source": [
    "#age of comapany\n",
    "#df['age_of_company']=2023-(df.Founded)\n",
    "df['age_of_company']=df.Founded.apply(lambda x: x if x<1 else 2024-x)\n"
   ]
  },
  {
   "cell_type": "code",
   "execution_count": 14,
   "metadata": {},
   "outputs": [
    {
     "data": {
      "text/plain": [
       "python_jobs\n",
       "1    392\n",
       "0    350\n",
       "Name: count, dtype: int64"
      ]
     },
     "execution_count": 14,
     "metadata": {},
     "output_type": "execute_result"
    }
   ],
   "source": [
    "#python\n",
    "df['python_jobs']=df['Job Description'].apply(lambda x: 1 if 'python' in x.lower() else 0)\n",
    "df.python_jobs.value_counts()\n"
   ]
  },
  {
   "cell_type": "code",
   "execution_count": 17,
   "metadata": {},
   "outputs": [
    {
     "data": {
      "text/plain": [
       "r_jobs\n",
       "0    740\n",
       "1      2\n",
       "Name: count, dtype: int64"
      ]
     },
     "execution_count": 17,
     "metadata": {},
     "output_type": "execute_result"
    }
   ],
   "source": [
    "#R-studio\n",
    "df['r_jobs']=df['Job Description'].apply(lambda x: 1 if 'r studio' in x.lower() or 'r-studio' in x.lower()else 0)\n",
    "df.r_jobs.value_counts()"
   ]
  },
  {
   "cell_type": "code",
   "execution_count": 19,
   "metadata": {},
   "outputs": [
    {
     "data": {
      "text/plain": [
       "spark_jobs\n",
       "0    575\n",
       "1    167\n",
       "Name: count, dtype: int64"
      ]
     },
     "execution_count": 19,
     "metadata": {},
     "output_type": "execute_result"
    }
   ],
   "source": [
    "#spark\n",
    "df['spark_jobs']=df['Job Description'].apply(lambda x: 1 if 'spark' in x.lower() else 0)\n",
    "df.spark_jobs.value_counts()"
   ]
  },
  {
   "cell_type": "code",
   "execution_count": 20,
   "metadata": {},
   "outputs": [
    {
     "data": {
      "text/plain": [
       "excel_jobs\n",
       "1    388\n",
       "0    354\n",
       "Name: count, dtype: int64"
      ]
     },
     "execution_count": 20,
     "metadata": {},
     "output_type": "execute_result"
    }
   ],
   "source": [
    "#Excel\n",
    "df['excel_jobs']=df['Job Description'].apply(lambda x: 1 if 'excel' in x.lower() else 0)\n",
    "df.excel_jobs.value_counts()"
   ]
  },
  {
   "cell_type": "code",
   "execution_count": 21,
   "metadata": {},
   "outputs": [
    {
     "data": {
      "text/plain": [
       "aws_jobs\n",
       "0    566\n",
       "1    176\n",
       "Name: count, dtype: int64"
      ]
     },
     "execution_count": 21,
     "metadata": {},
     "output_type": "execute_result"
    }
   ],
   "source": [
    "#Aws\n",
    "df['aws_jobs']=df['Job Description'].apply(lambda x: 1 if 'aws' in x.lower() else 0)\n",
    "df.aws_jobs.value_counts()"
   ]
  },
  {
   "cell_type": "code",
   "execution_count": 25,
   "metadata": {},
   "outputs": [],
   "source": [
    "#final clean \n",
    "df_out=df.drop('Unnamed: 0', axis=1)\n",
    "\n",
    "# new clean csv\n",
    "df_out.to_csv('salary_data_cleaned.csv', index=False)\n"
   ]
  }
 ],
 "metadata": {
  "kernelspec": {
   "display_name": "base",
   "language": "python",
   "name": "python3"
  },
  "language_info": {
   "codemirror_mode": {
    "name": "ipython",
    "version": 3
   },
   "file_extension": ".py",
   "mimetype": "text/x-python",
   "name": "python",
   "nbconvert_exporter": "python",
   "pygments_lexer": "ipython3",
   "version": "3.11.5"
  }
 },
 "nbformat": 4,
 "nbformat_minor": 2
}
